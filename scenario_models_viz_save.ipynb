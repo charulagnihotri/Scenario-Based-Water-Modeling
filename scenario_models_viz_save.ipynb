{
 "cells": [
  {
   "cell_type": "code",
   "execution_count": 51,
   "id": "0715f6f4-f69e-4445-a068-a3affe25d0fa",
   "metadata": {},
   "outputs": [],
   "source": [
    "import os\n",
    "import pandas as pd\n",
    "import numpy as np\n",
    "import matplotlib.pyplot as plt\n",
    "from sklearn.preprocessing import MinMaxScaler\n",
    "from tensorflow.keras.models import Sequential\n",
    "from tensorflow.keras.layers import LSTM, Dense\n"
   ]
  },
  {
   "cell_type": "code",
   "execution_count": 90,
   "id": "36c0e3bf-5c61-492a-af5b-49bc86fd6281",
   "metadata": {},
   "outputs": [
    {
     "name": "stderr",
     "output_type": "stream",
     "text": [
      "/var/folders/hh/bb1k1l2j6w58bkgff6_mt1km0000gn/T/ipykernel_38444/1978847184.py:4: FutureWarning: DataFrame.interpolate with object dtype is deprecated and will raise in a future version. Call obj.infer_objects(copy=False) before interpolating instead.\n",
      "  df_filled = df.interpolate(method='linear', limit_direction='forward', axis=0)\n"
     ]
    },
    {
     "data": {
      "text/plain": [
       "(         Date  Biochemical Oxygen Demand  Conductivity  Temperature  \\\n",
       " 0  01-01-2020                   1.676295    196.436018         18.1   \n",
       " 1  02-01-2020                   1.554172    178.025627         19.4   \n",
       " 2  03-01-2020                   1.716634    202.295565         15.9   \n",
       " 3  04-01-2020                   1.897372    229.299342         16.2   \n",
       " 4  05-01-2020                   1.552002    178.000000         15.8   \n",
       " \n",
       "    Turbidity  Dissolved Oxygen  Fecal_Coliform  Fecal_Streptococci   Nitrate  \\\n",
       " 0  23.550857          4.345560     59525.09096           50.813171  0.117663   \n",
       " 1  12.300000          4.100042     49000.00000           40.000000  0.000000   \n",
       " 2  27.065864          4.423591     62766.94106           54.163446  0.154753   \n",
       " 3  44.849645          4.783588     80398.04990           71.855155  0.333675   \n",
       " 4  12.300000          4.100000     49000.00000           40.000000  0.000000   \n",
       " \n",
       "          pH  Rainfall  Total_Coliform  \n",
       " 0  6.979505       0.0      96406.6215  \n",
       " 1  6.920000       0.0      80000.0000  \n",
       " 2  6.998304       0.0     101538.3380  \n",
       " 3  7.087907       0.0     127344.3587  \n",
       " 4  6.920000       0.0      80000.0000  ,\n",
       " Date                         24\n",
       " Biochemical Oxygen Demand     0\n",
       " Conductivity                  0\n",
       " Temperature                   0\n",
       " Turbidity                     0\n",
       " Dissolved Oxygen              0\n",
       " Fecal_Coliform                0\n",
       " Fecal_Streptococci            0\n",
       " Nitrate                       0\n",
       " pH                            0\n",
       " Rainfall                      0\n",
       " Total_Coliform                0\n",
       " dtype: int64)"
      ]
     },
     "execution_count": 90,
     "metadata": {},
     "output_type": "execute_result"
    }
   ],
   "source": [
    "df = pd.read_csv('Dakshineshwar.csv')\n",
    "\n",
    "# Fill missing values using linear interpolation\n",
    "df_filled = df.interpolate(method='linear', limit_direction='forward', axis=0)\n",
    "\n",
    "# Check if all missing values are addressed\n",
    "remaining_missing_values = df_filled.isnull().sum()\n",
    "df_filled.head(), remaining_missing_values"
   ]
  },
  {
   "cell_type": "code",
   "execution_count": 93,
   "id": "8c21fdcc-8310-432c-98bf-69c13a82fe88",
   "metadata": {},
   "outputs": [
    {
     "data": {
      "text/plain": [
       "'/Users/charulagnihotri/Documents/projects/scenario modeling - sih ganga/Dakshineshwar_filled.csv'"
      ]
     },
     "execution_count": 93,
     "metadata": {},
     "output_type": "execute_result"
    }
   ],
   "source": [
    "# Save the filled dataset to a new CSV file for the user to download\n",
    "output_path = '/Users/charulagnihotri/Documents/projects/scenario modeling - sih ganga/Dakshineshwar_filled.csv'\n",
    "df_filled.to_csv(output_path, index=False)\n",
    "output_path\n"
   ]
  }
 ],
 "metadata": {
  "kernelspec": {
   "display_name": "Python 3 (ipykernel)",
   "language": "python",
   "name": "python3"
  },
  "language_info": {
   "codemirror_mode": {
    "name": "ipython",
    "version": 3
   },
   "file_extension": ".py",
   "mimetype": "text/x-python",
   "name": "python",
   "nbconvert_exporter": "python",
   "pygments_lexer": "ipython3",
   "version": "3.12.4"
  }
 },
 "nbformat": 4,
 "nbformat_minor": 5
}
